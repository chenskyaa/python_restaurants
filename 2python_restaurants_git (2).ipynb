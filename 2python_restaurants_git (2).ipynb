{
 "cells": [
  {
   "cell_type": "markdown",
   "id": "6556604e-c826-4232-883b-da37776b2ba0",
   "metadata": {},
   "source": [
    "# Москва на вкус: анализ заведений и рекомендации для инвесторов"
   ]
  },
  {
   "cell_type": "markdown",
   "id": "307b9d66-1f9e-48aa-a3bf-9e1954d70c78",
   "metadata": {},
   "source": [
    "## Цели и задачи проекта\n",
    "Целью этого проекта является проведение исследовательского анализа рынка заведений общественного питания в Москве, чтобы помочь инвесторам из фонда Shut Up and Take My Money выбрать оптимальное место, формат и ценовую категорию для их будущего заведения. Для этого необходимо изучить текущую ситуацию на рынке, определить популярные форматы заведений, исследовать их распределение по районам и выявить ключевые закономерности, влияющие на успешность бизнеса."
   ]
  },
  {
   "cell_type": "markdown",
   "id": "8ccb64d4-cb85-4c56-b3d4-8834954190e2",
   "metadata": {},
   "source": [
    "## План работы\n",
    "\n",
    "Работа начнётся с загрузки и знакомства с данными, чтобы понять их структуру, проверить на наличие пропусков, дубликатов и ошибок, а затем объединить два датасета в один. После этого будет проведена предобработка данных: приведение типов к нужному формату, обработка пропусков, удаление дубликатов и добавление новых переменных, таких как признак круглосуточной работы заведения.\n",
    "\n",
    "Затем последует исследовательский анализ, в ходе которого будет изучено распределение заведений по категориям и районам, определено соотношение сетевых и несетевых объектов, проанализированы количество посадочных мест и рейтинги. Также будет выявлено, какие заведения чаще всего становятся частью сетей, как распределяются рейтинги по категориям, какие факторы могут на них влиять, а также какие заведения являются самыми популярными в Москве."
   ]
  },
  {
   "cell_type": "markdown",
   "id": "f7f6eae6-180d-4909-ab01-db96caed28c4",
   "metadata": {},
   "source": [
    "## Описание данных:\n",
    "\n",
    "Нам доступен датасет с заведениями общественного питания Москвы, составленный на основе данных сервисов Яндекс Карты и Яндекс Бизнес на лето 2022 года. Информация, размещённая в сервисе Яндекс Бизнес, могла быть добавлена пользователями или найдена в общедоступных источниках.\n",
    "\n",
    "У нас есть два файла с данными:\n",
    "\n",
    "Файл `/datasets/rest_info.csv` содержит информацию о заведениях общественного питания:\n",
    "* `name` — название заведения;\n",
    "* `address` — адрес заведения;\n",
    "* `district` — административный район, в котором находится заведение, например Центральный административный округ;\n",
    "* `category` — категория заведения, например «кафе», «пиццерия» или «кофейня»;\n",
    "* `hours` — информация о днях и часах работы;\n",
    "* `rating` — рейтинг заведения по оценкам пользователей в Яндекс Картах (высшая оценка — 5.0);\n",
    "* `chain` — число, выраженное 0 или 1, которое показывает, является ли заведение сетевым (для маленьких сетей могут встречаться ошибки):\n",
    "-0 — заведение не является сетевым;\n",
    "-1 — заведение является сетевым.\n",
    "* `seats` — количество посадочных мест.\n",
    "\n",
    "Файл `/datasets/rest_price.csv` содержит информацию о среднем чеке в заведениях общественного питания:\n",
    "* `price` — категория цен в заведении, например «средние», «ниже среднего», «выше среднего» и так далее;\n",
    "* `avg_bill` — строка, которая хранит среднюю стоимость заказа в виде диапазона, например:\n",
    "«Средний счёт: 1000–1500 ₽»;\n",
    "«Цена чашки капучино: 130–220 ₽»;\n",
    "«Цена бокала пива: 400–600 ₽».\n",
    "и так далее;\n",
    "* `middle_avg_bill` — число с оценкой среднего чека, которое указано только для значений из столбца `avg_bill`, начинающихся с подстроки «Средний счёт»:\n",
    "Если в строке указан ценовой диапазон из двух значений, в столбец войдёт медиана этих двух значений.\n",
    "Если в строке указано одно число — цена без диапазона, то в столбец войдёт это число.\n",
    "Если значения нет или оно не начинается с подстроки «Средний счёт», то в столбец ничего не войдёт.\n",
    "* `middle_coffee_cup` — число с оценкой одной чашки капучино, которое указано только для значений из столбца `avg_bill`, начинающихся с подстроки «Цена одной чашки капучино»:\n",
    "Если в строке указан ценовой диапазон из двух значений, в столбец войдёт медиана этих двух значений.\n",
    "Если в строке указано одно число — цена без диапазона, то в столбец войдёт это число.\n",
    "Если значения нет или оно не начинается с подстроки «Цена одной чашки капучино», то в столбец ничего не войдёт."
   ]
  },
  {
   "cell_type": "markdown",
   "id": "fc0d6843-c3a4-4a0f-8b43-b4c7f4b5187c",
   "metadata": {},
   "source": [
    "## **Шаг 1. Загрузка данных и знакомство с ними**\n",
    "Начнем с загрузки библиотек и датасетов `/datasets/rest_info.csv` и `/datasets/rest_price.csv`. Будем использовать pandas и библиотеки визуализации данных matplotlib и seaborn, а также phik для построения матрицы корреляции. Данные датасетов сохраним в двух переменных: `rest_df` и `price_df`."
   ]
  },
  {
   "cell_type": "code",
   "execution_count": 8,
   "id": "8b173f88-e063-43d0-9e3f-fac2d29c8d25",
   "metadata": {},
   "outputs": [],
   "source": [
    "# Импортируем библиотеки для работы с данными \n",
    "import pandas as pd\n",
    "\n",
    "# Импортируем библиотеки для визуализации\n",
    "import matplotlib.pyplot as plt\n",
    "import seaborn as sns\n",
    "\n",
    "# Загружаем библиотеку для расчёта коэффициента корреляции phi_k\n",
    "from phik import phik_matrix"
   ]
  },
  {
   "cell_type": "code",
   "execution_count": 9,
   "id": "60183e7d-21be-447e-be89-9cb63617c83b",
   "metadata": {},
   "outputs": [],
   "source": [
    "# Выгружаем данные в переменные \n",
    "rest_df = pd.read_csv('https://code.s3.yandex.net/datasets/rest_info.csv')\n",
    "price_df = pd.read_csv('https://code.s3.yandex.net/datasets/rest_price.csv')"
   ]
  },
  {
   "cell_type": "markdown",
   "id": "9d5bf529-1add-4bf4-a765-a9077d06b11d",
   "metadata": {},
   "source": [
    "Познакомимся с данными датасета `/datasets/rest_info.csv` — выведем первые строки методом `head()`, а информацию о датафрейме методом `info()`:"
   ]
  },
  {
   "cell_type": "code",
   "execution_count": 11,
   "id": "f84c44da-5eb5-42cc-8171-cd628d82a97b",
   "metadata": {},
   "outputs": [
    {
     "data": {
      "text/html": [
       "<div>\n",
       "<style scoped>\n",
       "    .dataframe tbody tr th:only-of-type {\n",
       "        vertical-align: middle;\n",
       "    }\n",
       "\n",
       "    .dataframe tbody tr th {\n",
       "        vertical-align: top;\n",
       "    }\n",
       "\n",
       "    .dataframe thead th {\n",
       "        text-align: right;\n",
       "    }\n",
       "</style>\n",
       "<table border=\"1\" class=\"dataframe\">\n",
       "  <thead>\n",
       "    <tr style=\"text-align: right;\">\n",
       "      <th></th>\n",
       "      <th>id</th>\n",
       "      <th>name</th>\n",
       "      <th>category</th>\n",
       "      <th>address</th>\n",
       "      <th>district</th>\n",
       "      <th>hours</th>\n",
       "      <th>rating</th>\n",
       "      <th>chain</th>\n",
       "      <th>seats</th>\n",
       "    </tr>\n",
       "  </thead>\n",
       "  <tbody>\n",
       "    <tr>\n",
       "      <th>0</th>\n",
       "      <td>0c3e3439a8c64ea5bf6ecd6ca6ae19f0</td>\n",
       "      <td>WoWфли</td>\n",
       "      <td>кафе</td>\n",
       "      <td>Москва, улица Дыбенко, 7/1</td>\n",
       "      <td>Северный административный округ</td>\n",
       "      <td>ежедневно, 10:00–22:00</td>\n",
       "      <td>5.0</td>\n",
       "      <td>0</td>\n",
       "      <td>NaN</td>\n",
       "    </tr>\n",
       "    <tr>\n",
       "      <th>1</th>\n",
       "      <td>045780ada3474c57a2112e505d74b633</td>\n",
       "      <td>Четыре комнаты</td>\n",
       "      <td>ресторан</td>\n",
       "      <td>Москва, улица Дыбенко, 36, корп. 1</td>\n",
       "      <td>Северный административный округ</td>\n",
       "      <td>ежедневно, 10:00–22:00</td>\n",
       "      <td>4.5</td>\n",
       "      <td>0</td>\n",
       "      <td>4.0</td>\n",
       "    </tr>\n",
       "    <tr>\n",
       "      <th>2</th>\n",
       "      <td>1070b6b59144425896c65889347fcff6</td>\n",
       "      <td>Хазри</td>\n",
       "      <td>кафе</td>\n",
       "      <td>Москва, Клязьминская улица, 15</td>\n",
       "      <td>Северный административный округ</td>\n",
       "      <td>пн-чт 11:00–02:00; пт,сб 11:00–05:00; вс 11:00...</td>\n",
       "      <td>4.6</td>\n",
       "      <td>0</td>\n",
       "      <td>45.0</td>\n",
       "    </tr>\n",
       "    <tr>\n",
       "      <th>3</th>\n",
       "      <td>03ac7cd772104f65b58b349dc59f03ee</td>\n",
       "      <td>Dormouse Coffee Shop</td>\n",
       "      <td>кофейня</td>\n",
       "      <td>Москва, улица Маршала Федоренко, 12</td>\n",
       "      <td>Северный административный округ</td>\n",
       "      <td>ежедневно, 09:00–22:00</td>\n",
       "      <td>5.0</td>\n",
       "      <td>0</td>\n",
       "      <td>NaN</td>\n",
       "    </tr>\n",
       "    <tr>\n",
       "      <th>4</th>\n",
       "      <td>a163aada139c4c7f87b0b1c0b466a50f</td>\n",
       "      <td>Иль Марко</td>\n",
       "      <td>пиццерия</td>\n",
       "      <td>Москва, Правобережная улица, 1Б</td>\n",
       "      <td>Северный административный округ</td>\n",
       "      <td>ежедневно, 10:00–22:00</td>\n",
       "      <td>5.0</td>\n",
       "      <td>1</td>\n",
       "      <td>148.0</td>\n",
       "    </tr>\n",
       "  </tbody>\n",
       "</table>\n",
       "</div>"
      ],
      "text/plain": [
       "                                 id                  name  category  \\\n",
       "0  0c3e3439a8c64ea5bf6ecd6ca6ae19f0                WoWфли      кафе   \n",
       "1  045780ada3474c57a2112e505d74b633        Четыре комнаты  ресторан   \n",
       "2  1070b6b59144425896c65889347fcff6                 Хазри      кафе   \n",
       "3  03ac7cd772104f65b58b349dc59f03ee  Dormouse Coffee Shop   кофейня   \n",
       "4  a163aada139c4c7f87b0b1c0b466a50f             Иль Марко  пиццерия   \n",
       "\n",
       "                               address                         district  \\\n",
       "0           Москва, улица Дыбенко, 7/1  Северный административный округ   \n",
       "1   Москва, улица Дыбенко, 36, корп. 1  Северный административный округ   \n",
       "2       Москва, Клязьминская улица, 15  Северный административный округ   \n",
       "3  Москва, улица Маршала Федоренко, 12  Северный административный округ   \n",
       "4      Москва, Правобережная улица, 1Б  Северный административный округ   \n",
       "\n",
       "                                               hours  rating  chain  seats  \n",
       "0                             ежедневно, 10:00–22:00     5.0      0    NaN  \n",
       "1                             ежедневно, 10:00–22:00     4.5      0    4.0  \n",
       "2  пн-чт 11:00–02:00; пт,сб 11:00–05:00; вс 11:00...     4.6      0   45.0  \n",
       "3                             ежедневно, 09:00–22:00     5.0      0    NaN  \n",
       "4                             ежедневно, 10:00–22:00     5.0      1  148.0  "
      ]
     },
     "execution_count": 11,
     "metadata": {},
     "output_type": "execute_result"
    }
   ],
   "source": [
    "rest_df.head()"
   ]
  },
  {
   "cell_type": "code",
   "execution_count": 12,
   "id": "b679ceae-e427-46ef-b961-153370a7b303",
   "metadata": {},
   "outputs": [
    {
     "name": "stdout",
     "output_type": "stream",
     "text": [
      "<class 'pandas.core.frame.DataFrame'>\n",
      "RangeIndex: 8406 entries, 0 to 8405\n",
      "Data columns (total 9 columns):\n",
      " #   Column    Non-Null Count  Dtype  \n",
      "---  ------    --------------  -----  \n",
      " 0   id        8406 non-null   object \n",
      " 1   name      8406 non-null   object \n",
      " 2   category  8406 non-null   object \n",
      " 3   address   8406 non-null   object \n",
      " 4   district  8406 non-null   object \n",
      " 5   hours     7870 non-null   object \n",
      " 6   rating    8406 non-null   float64\n",
      " 7   chain     8406 non-null   int64  \n",
      " 8   seats     4795 non-null   float64\n",
      "dtypes: float64(2), int64(1), object(6)\n",
      "memory usage: 591.2+ KB\n"
     ]
    }
   ],
   "source": [
    "rest_df.info()"
   ]
  },
  {
   "cell_type": "markdown",
   "id": "0c91a13e-4857-427e-8804-50f3ac581ab0",
   "metadata": {},
   "source": [
    "Датасет `/datasets/rest_info.csv` содержит 9 столбцов и 8406 строк, в которых представлена информация о заведениях общественного питания.\n",
    "\n",
    "**После первичного анализа данных можно сделать следующие выводы:**\n",
    "\n",
    "* Названия столбцов не нужно приводить к snake case, так как все буквы уже находятся в нижнем регистре и столбцы названы одним словом.\n",
    "* Только три столбца содержат числовые данные. Все значения хранятся в корректных типах данных, однако столбец `chain` содержит значения 1 или 0 — размерность этих данных можно оптимизировать.\n",
    "* Пропуски содержатся только в столбцах `hours` и `seats`. Однако следует проверить и другие столбцы: в них могут встречаться значения-индикаторы, которые будут говорить об отсутствии данных.\n",
    "* Судя по первому знакомству с данными, значения в столбцах соответствуют своему описанию."
   ]
  },
  {
   "cell_type": "markdown",
   "id": "ff495035-e280-40b5-a0c5-f0dbe18b6215",
   "metadata": {},
   "source": [
    "Аналогичным образом познакомимся с данными датасета `/datasets/rest_price.csv`"
   ]
  },
  {
   "cell_type": "code",
   "execution_count": 19,
   "id": "4116001d-f7d4-48a9-b5e3-e2ff2e3038f8",
   "metadata": {},
   "outputs": [
    {
     "data": {
      "text/html": [
       "<div>\n",
       "<style scoped>\n",
       "    .dataframe tbody tr th:only-of-type {\n",
       "        vertical-align: middle;\n",
       "    }\n",
       "\n",
       "    .dataframe tbody tr th {\n",
       "        vertical-align: top;\n",
       "    }\n",
       "\n",
       "    .dataframe thead th {\n",
       "        text-align: right;\n",
       "    }\n",
       "</style>\n",
       "<table border=\"1\" class=\"dataframe\">\n",
       "  <thead>\n",
       "    <tr style=\"text-align: right;\">\n",
       "      <th></th>\n",
       "      <th>id</th>\n",
       "      <th>price</th>\n",
       "      <th>avg_bill</th>\n",
       "      <th>middle_avg_bill</th>\n",
       "      <th>middle_coffee_cup</th>\n",
       "    </tr>\n",
       "  </thead>\n",
       "  <tbody>\n",
       "    <tr>\n",
       "      <th>0</th>\n",
       "      <td>045780ada3474c57a2112e505d74b633</td>\n",
       "      <td>выше среднего</td>\n",
       "      <td>Средний счёт:1500–1600 ₽</td>\n",
       "      <td>1550.0</td>\n",
       "      <td>NaN</td>\n",
       "    </tr>\n",
       "    <tr>\n",
       "      <th>1</th>\n",
       "      <td>1070b6b59144425896c65889347fcff6</td>\n",
       "      <td>средние</td>\n",
       "      <td>Средний счёт:от 1000 ₽</td>\n",
       "      <td>1000.0</td>\n",
       "      <td>NaN</td>\n",
       "    </tr>\n",
       "    <tr>\n",
       "      <th>2</th>\n",
       "      <td>03ac7cd772104f65b58b349dc59f03ee</td>\n",
       "      <td>NaN</td>\n",
       "      <td>Цена чашки капучино:155–185 ₽</td>\n",
       "      <td>NaN</td>\n",
       "      <td>170.0</td>\n",
       "    </tr>\n",
       "    <tr>\n",
       "      <th>3</th>\n",
       "      <td>a163aada139c4c7f87b0b1c0b466a50f</td>\n",
       "      <td>средние</td>\n",
       "      <td>Средний счёт:400–600 ₽</td>\n",
       "      <td>500.0</td>\n",
       "      <td>NaN</td>\n",
       "    </tr>\n",
       "    <tr>\n",
       "      <th>4</th>\n",
       "      <td>8a343546b24e4a499ad96eb7d0797a8a</td>\n",
       "      <td>средние</td>\n",
       "      <td>NaN</td>\n",
       "      <td>NaN</td>\n",
       "      <td>NaN</td>\n",
       "    </tr>\n",
       "  </tbody>\n",
       "</table>\n",
       "</div>"
      ],
      "text/plain": [
       "                                 id          price  \\\n",
       "0  045780ada3474c57a2112e505d74b633  выше среднего   \n",
       "1  1070b6b59144425896c65889347fcff6        средние   \n",
       "2  03ac7cd772104f65b58b349dc59f03ee            NaN   \n",
       "3  a163aada139c4c7f87b0b1c0b466a50f        средние   \n",
       "4  8a343546b24e4a499ad96eb7d0797a8a        средние   \n",
       "\n",
       "                        avg_bill  middle_avg_bill  middle_coffee_cup  \n",
       "0       Средний счёт:1500–1600 ₽           1550.0                NaN  \n",
       "1         Средний счёт:от 1000 ₽           1000.0                NaN  \n",
       "2  Цена чашки капучино:155–185 ₽              NaN              170.0  \n",
       "3         Средний счёт:400–600 ₽            500.0                NaN  \n",
       "4                            NaN              NaN                NaN  "
      ]
     },
     "execution_count": 19,
     "metadata": {},
     "output_type": "execute_result"
    }
   ],
   "source": [
    "price_df.head()"
   ]
  },
  {
   "cell_type": "code",
   "execution_count": 21,
   "id": "82751459-eb23-4f8a-942e-6b09d5da70c8",
   "metadata": {},
   "outputs": [
    {
     "name": "stdout",
     "output_type": "stream",
     "text": [
      "<class 'pandas.core.frame.DataFrame'>\n",
      "RangeIndex: 4058 entries, 0 to 4057\n",
      "Data columns (total 5 columns):\n",
      " #   Column             Non-Null Count  Dtype  \n",
      "---  ------             --------------  -----  \n",
      " 0   id                 4058 non-null   object \n",
      " 1   price              3315 non-null   object \n",
      " 2   avg_bill           3816 non-null   object \n",
      " 3   middle_avg_bill    3149 non-null   float64\n",
      " 4   middle_coffee_cup  535 non-null    float64\n",
      "dtypes: float64(2), object(3)\n",
      "memory usage: 158.6+ KB\n"
     ]
    }
   ],
   "source": [
    "price_df.info()"
   ]
  },
  {
   "cell_type": "markdown",
   "id": "add480c0-aaf3-46b1-acf0-95b6abb78532",
   "metadata": {},
   "source": [
    "Датасет `/datasets/rest_price.csv` содержит 5 столбцов и 4058 строк, в которых представлена информация о ценах в заведениях общественного питания.\n",
    "\n",
    "**После первичного анализа данных можно сделать следующие выводы:**\n",
    "\n",
    "* Названия столбцов уже приведены к snake case.\n",
    "* Только два столбца содержат числовые данные. Все значения хранятся в корректных типах данных.\n",
    "* Пропуски содержатся только в столбцах во всех столбцах за исключением столбца `id`\n",
    "* Судя по первому знакомству с данными, значения в столбцах соответствуют своему описанию.\n",
    "\n",
    "Поскольку из задачи нам известно что информация в датасете могла быть добавлена пользователями или найдена в общедоступных источниках, пропуски не вызывают много подозрений, однако нам стоит брать их во внимание при последующем анализе"
   ]
  },
  {
   "cell_type": "markdown",
   "id": "8637d6fd-12a9-4639-9d1b-cbf64835bc44",
   "metadata": {},
   "source": [
    "#### Подготовка единого датафрейма\n",
    "\n",
    "Поскольку задание подразумевает полный анализ данных по всем заведениям, мы соеденим нади датасеты в один датафрейм для того чтобы упростить работу в дальнейшем, так как мы проводим анализ по заведениям а не по ценам, соединять мы будем сохраняя все значения из датасета  `/datasets/rest_info.csv`\n",
    "\n",
    "Соединим данные, используя значение параметра `how` = `'left'`. Это позволит соединить датафрейм `price_df` к `rest_df` и не потерять данные из `rest_df`"
   ]
  },
  {
   "cell_type": "code",
   "execution_count": 25,
   "id": "6d5174cb-a91f-42fa-bbb3-edcb60b24dc3",
   "metadata": {},
   "outputs": [],
   "source": [
    "#Соединяем данные\n",
    "df = rest_df.merge(price_df, on = 'id', how = 'left')"
   ]
  },
  {
   "cell_type": "code",
   "execution_count": 27,
   "id": "77f467c6-594b-4177-8c2e-0c4a023ccd8a",
   "metadata": {},
   "outputs": [
    {
     "name": "stdout",
     "output_type": "stream",
     "text": [
      "<class 'pandas.core.frame.DataFrame'>\n",
      "RangeIndex: 8406 entries, 0 to 8405\n",
      "Data columns (total 13 columns):\n",
      " #   Column             Non-Null Count  Dtype  \n",
      "---  ------             --------------  -----  \n",
      " 0   id                 8406 non-null   object \n",
      " 1   name               8406 non-null   object \n",
      " 2   category           8406 non-null   object \n",
      " 3   address            8406 non-null   object \n",
      " 4   district           8406 non-null   object \n",
      " 5   hours              7870 non-null   object \n",
      " 6   rating             8406 non-null   float64\n",
      " 7   chain              8406 non-null   int64  \n",
      " 8   seats              4795 non-null   float64\n",
      " 9   price              3315 non-null   object \n",
      " 10  avg_bill           3816 non-null   object \n",
      " 11  middle_avg_bill    3149 non-null   float64\n",
      " 12  middle_coffee_cup  535 non-null    float64\n",
      "dtypes: float64(4), int64(1), object(8)\n",
      "memory usage: 853.9+ KB\n"
     ]
    }
   ],
   "source": [
    "#Выводим информацию о датафрейме\n",
    "df.info()"
   ]
  },
  {
   "cell_type": "markdown",
   "id": "0288b30e-eeb8-4a4f-9b7d-606e229416cd",
   "metadata": {},
   "source": [
    "Данные соеденены и вся информация о заведениях общественного питания сохранилась "
   ]
  },
  {
   "cell_type": "markdown",
   "id": "8371b8a1-0af7-4d39-a91c-a8383c442a89",
   "metadata": {},
   "source": [
    "## Шаг 2. Предобработка данных"
   ]
  },
  {
   "cell_type": "markdown",
   "id": "fb9a605a-1afd-4064-9401-58b06608ae5b",
   "metadata": {},
   "source": [
    "### Оптимизируем типы данных\n",
    "\n",
    "Тут не так много работы, так как только столбец `chain` нуждается в преобразовании типа данных, поскольку данных не так много, это необязательный шаг, но мы можем его выполнить для оптимизации\n",
    "\n",
    "Для оптимизации будем использовать метод `pd.to_numeric` с аргументом `downcast='integer'`:"
   ]
  },
  {
   "cell_type": "code",
   "execution_count": 32,
   "id": "ca25e634-a488-4e1f-9689-6f35fc96fe68",
   "metadata": {},
   "outputs": [],
   "source": [
    "df['chain'] = pd.to_numeric(df['chain'], downcast = 'integer')"
   ]
  },
  {
   "cell_type": "code",
   "execution_count": 34,
   "id": "1692a20f-52bb-4691-85a9-45e1d2644a0f",
   "metadata": {},
   "outputs": [
    {
     "data": {
      "text/plain": [
       "id                    object\n",
       "name                  object\n",
       "category              object\n",
       "address               object\n",
       "district              object\n",
       "hours                 object\n",
       "rating               float64\n",
       "chain                   int8\n",
       "seats                float64\n",
       "price                 object\n",
       "avg_bill              object\n",
       "middle_avg_bill      float64\n",
       "middle_coffee_cup    float64\n",
       "dtype: object"
      ]
     },
     "execution_count": 34,
     "metadata": {},
     "output_type": "execute_result"
    }
   ],
   "source": [
    "# Проверим типы данных после оптимизации\n",
    "df.dtypes"
   ]
  },
  {
   "cell_type": "markdown",
   "id": "5c35fe09-d250-4ccd-a8f0-80b405230083",
   "metadata": {},
   "source": [
    "Этот шаг выполнен и можно двигаться дальше"
   ]
  },
  {
   "cell_type": "markdown",
   "id": "968cd4a5-5b12-4451-84f2-667f382e91df",
   "metadata": {},
   "source": [
    "### Работа с пропусками\n",
    "\n",
    "При первичном анализе мы обнаружили пропуски в нашем датафрейме. Вычислим абсолютные и относительные значения пропусков в датафрейме:"
   ]
  },
  {
   "cell_type": "code",
   "execution_count": 38,
   "id": "a9e29f89-4c3a-4fb5-bcc6-aed06abc6ed5",
   "metadata": {},
   "outputs": [
    {
     "data": {
      "text/html": [
       "<div>\n",
       "<style scoped>\n",
       "    .dataframe tbody tr th:only-of-type {\n",
       "        vertical-align: middle;\n",
       "    }\n",
       "\n",
       "    .dataframe tbody tr th {\n",
       "        vertical-align: top;\n",
       "    }\n",
       "\n",
       "    .dataframe thead th {\n",
       "        text-align: right;\n",
       "    }\n",
       "</style>\n",
       "<table border=\"1\" class=\"dataframe\">\n",
       "  <thead>\n",
       "    <tr style=\"text-align: right;\">\n",
       "      <th></th>\n",
       "      <th>Пропуски (абс.)</th>\n",
       "      <th>Пропуски (%)</th>\n",
       "    </tr>\n",
       "  </thead>\n",
       "  <tbody>\n",
       "    <tr>\n",
       "      <th>middle_coffee_cup</th>\n",
       "      <td>7871</td>\n",
       "      <td>93.635498</td>\n",
       "    </tr>\n",
       "    <tr>\n",
       "      <th>middle_avg_bill</th>\n",
       "      <td>5257</td>\n",
       "      <td>62.538663</td>\n",
       "    </tr>\n",
       "    <tr>\n",
       "      <th>price</th>\n",
       "      <td>5091</td>\n",
       "      <td>60.563883</td>\n",
       "    </tr>\n",
       "    <tr>\n",
       "      <th>avg_bill</th>\n",
       "      <td>4590</td>\n",
       "      <td>54.603854</td>\n",
       "    </tr>\n",
       "    <tr>\n",
       "      <th>seats</th>\n",
       "      <td>3611</td>\n",
       "      <td>42.957411</td>\n",
       "    </tr>\n",
       "    <tr>\n",
       "      <th>hours</th>\n",
       "      <td>536</td>\n",
       "      <td>6.376398</td>\n",
       "    </tr>\n",
       "    <tr>\n",
       "      <th>id</th>\n",
       "      <td>0</td>\n",
       "      <td>0.000000</td>\n",
       "    </tr>\n",
       "    <tr>\n",
       "      <th>name</th>\n",
       "      <td>0</td>\n",
       "      <td>0.000000</td>\n",
       "    </tr>\n",
       "    <tr>\n",
       "      <th>category</th>\n",
       "      <td>0</td>\n",
       "      <td>0.000000</td>\n",
       "    </tr>\n",
       "    <tr>\n",
       "      <th>address</th>\n",
       "      <td>0</td>\n",
       "      <td>0.000000</td>\n",
       "    </tr>\n",
       "    <tr>\n",
       "      <th>district</th>\n",
       "      <td>0</td>\n",
       "      <td>0.000000</td>\n",
       "    </tr>\n",
       "    <tr>\n",
       "      <th>rating</th>\n",
       "      <td>0</td>\n",
       "      <td>0.000000</td>\n",
       "    </tr>\n",
       "    <tr>\n",
       "      <th>chain</th>\n",
       "      <td>0</td>\n",
       "      <td>0.000000</td>\n",
       "    </tr>\n",
       "  </tbody>\n",
       "</table>\n",
       "</div>"
      ],
      "text/plain": [
       "                   Пропуски (абс.)  Пропуски (%)\n",
       "middle_coffee_cup             7871     93.635498\n",
       "middle_avg_bill               5257     62.538663\n",
       "price                         5091     60.563883\n",
       "avg_bill                      4590     54.603854\n",
       "seats                         3611     42.957411\n",
       "hours                          536      6.376398\n",
       "id                               0      0.000000\n",
       "name                             0      0.000000\n",
       "category                         0      0.000000\n",
       "address                          0      0.000000\n",
       "district                         0      0.000000\n",
       "rating                           0      0.000000\n",
       "chain                            0      0.000000"
      ]
     },
     "execution_count": 38,
     "metadata": {},
     "output_type": "execute_result"
    }
   ],
   "source": [
    "missing_data = df.isna().sum()\n",
    "missing_share = df.isna().sum() / len(df) * 100\n",
    "missing_all = pd.DataFrame({f'Пропуски (абс.)': missing_data, f'Пропуски (%)': missing_share})\n",
    "missing_all = missing_all.sort_values(by='Пропуски (абс.)', ascending=False)\n",
    "missing_all"
   ]
  },
  {
   "cell_type": "markdown",
   "id": "125a1641-5396-4e56-94a0-14135a7403e5",
   "metadata": {},
   "source": [
    "**Промежуточный вывод после изучения пропусков**\n",
    "\n",
    "Мы уже упоминали, данные брались из открытых источников или добавлялись вручную, можно предположить что природа пропусков - технические ошибки или ошибки ручного ввода, вероятно на этапе сбора или импорта часть данных потерялась.\n",
    "\n",
    "Мы могли бы поставить \"заглушки\" и заменить все пропуски аномальными значениями или медианой, но так как в будущем мы будем строить матрицу корреляций и коробку с усами (boxplot), эти аномальные значения могут испортить наш анализ. \n",
    "К тому же, основываясь на задачах и описании данных, эти пропуски не критичны для нашего анализа\n",
    "\n",
    "Было принято решение оставить пропуски как есть и работать с этими данными"
   ]
  },
  {
   "cell_type": "markdown",
   "id": "bc1a90ab-882b-41c2-80f3-8e8eeaf6cf29",
   "metadata": {},
   "source": [
    "### Работа с дубликатами \n"
   ]
  },
  {
   "cell_type": "markdown",
   "id": "4096107e-f523-4cd7-9d39-3c8663efd780",
   "metadata": {},
   "source": [
    "#### Неявные дубликаты\n",
    "\n",
    "Давайте рассмотрим уникальные записи в столбцах для выявления неявных дубликатов"
   ]
  },
  {
   "cell_type": "code",
   "execution_count": 43,
   "id": "324de503-abf4-4cd8-9d20-5adeb2742fa6",
   "metadata": {},
   "outputs": [
    {
     "data": {
      "text/plain": [
       "\"Уникальные категории: ['кафе' 'ресторан' 'кофейня' 'пиццерия' 'бар,паб' 'быстрое питание'\\n 'булочная' 'столовая'], Уникальные названия районов: ['Северный административный округ'\\n 'Северо-Восточный административный округ'\\n 'Северо-Западный административный округ'\\n 'Западный административный округ' 'Центральный административный округ'\\n 'Восточный административный округ' 'Юго-Восточный административный округ'\\n 'Южный административный округ' 'Юго-Западный административный округ']\""
      ]
     },
     "execution_count": 43,
     "metadata": {},
     "output_type": "execute_result"
    }
   ],
   "source": [
    "# Выявляем неявные дубликаты связанные с опечатками или разным способом написания\n",
    "unique_category = df['category'].unique()\n",
    "unique_district = df['district'].unique()\n",
    "f'Уникальные категории: {unique_category}, Уникальные названия районов: {unique_district}'"
   ]
  },
  {
   "cell_type": "markdown",
   "id": "6cd5a14b-68f2-4b7e-aaf8-9e59d23f4055",
   "metadata": {},
   "source": [
    "В названиях категорий и районов нет дублирующихся записей, все написано правильно и без опечаток. Но мы еще должны проверить дубликаты в названии и адресах заведений, но тут у нас большие данные и мы не сможем выявить их на глаз. Давайте подсчитаем уникальные значения пар \"Название - Адрес\""
   ]
  },
  {
   "cell_type": "code",
   "execution_count": 57,
   "id": "e34aeeb4-d8ec-45cc-9946-537c74aa1035",
   "metadata": {},
   "outputs": [
    {
     "ename": "NameError",
     "evalue": "name 'name_address' is not defined",
     "output_type": "error",
     "traceback": [
      "\u001b[1;31m---------------------------------------------------------------------------\u001b[0m",
      "\u001b[1;31mNameError\u001b[0m                                 Traceback (most recent call last)",
      "Cell \u001b[1;32mIn[57], line 7\u001b[0m\n\u001b[0;32m      5\u001b[0m \u001b[38;5;66;03m# Высчитываем уникальные пары \"Название - Адрес\"\u001b[39;00m\n\u001b[0;32m      6\u001b[0m df [\u001b[38;5;124m'\u001b[39m\u001b[38;5;124mname_address\u001b[39m\u001b[38;5;124m'\u001b[39m] \u001b[38;5;241m=\u001b[39m name_clean \u001b[38;5;241m+\u001b[39m \u001b[38;5;124m'\u001b[39m\u001b[38;5;124m \u001b[39m\u001b[38;5;124m'\u001b[39m \u001b[38;5;241m+\u001b[39m address_clean\n\u001b[1;32m----> 7\u001b[0m unique_name_address \u001b[38;5;241m=\u001b[39m name_address\u001b[38;5;241m.\u001b[39mnunique()\n\u001b[0;32m      9\u001b[0m \u001b[38;5;124mf\u001b[39m\u001b[38;5;124m'\u001b[39m\u001b[38;5;124mКоличество уникальных пар \u001b[39m\u001b[38;5;124m\"\u001b[39m\u001b[38;5;124mНазвание - Адрес\u001b[39m\u001b[38;5;124m\"\u001b[39m\u001b[38;5;124m: \u001b[39m\u001b[38;5;132;01m{\u001b[39;00munique_name_address\u001b[38;5;132;01m}\u001b[39;00m\u001b[38;5;124m'\u001b[39m\n",
      "\u001b[1;31mNameError\u001b[0m: name 'name_address' is not defined"
     ]
    }
   ],
   "source": [
    "# Приведем название и адреса к нижнему регистру, уберем пробелы \n",
    "name_clean = df['name'].str.lower().str.strip()\n",
    "address_clean = df['address'].str.lower().str.strip()\n",
    "\n",
    "# Высчитываем уникальные пары \"Название - Адрес\"\n",
    "df ['name_address'] = name_clean + ' ' + address_clean\n",
    "unique_name_address = name_address.nunique()\n",
    "\n",
    "f'Количество уникальных пар \"Название - Адрес\": {unique_name_address}'"
   ]
  },
  {
   "cell_type": "markdown",
   "id": "d3bd516f-a894-426b-8c00-e54d8ab31bd5",
   "metadata": {},
   "source": [
    "В датасете всего 8402 уникальные пары \"Название - Адрес\". В датасете всего 8406 строк, что говорит нам о неявных дубликатах связаных с разностью написания"
   ]
  },
  {
   "cell_type": "code",
   "execution_count": 55,
   "id": "e698c302-aa61-49dc-9a8b-8465bbe8557d",
   "metadata": {},
   "outputs": [
    {
     "data": {
      "text/plain": [
       "8402"
      ]
     },
     "execution_count": 55,
     "metadata": {},
     "output_type": "execute_result"
    }
   ],
   "source": [
    "# Удалим все дублирующиеся пары Название - Адрес\n",
    "df = df.drop_duplicates(subset=['name_address']).reset_index(drop = True)\n",
    "\n",
    "# Проверяем количество строк в итоговом датасете\n",
    "len(df)"
   ]
  },
  {
   "cell_type": "markdown",
   "id": "06416a64-17cf-4853-9059-7aef1301ea8d",
   "metadata": {},
   "source": [
    "Все неявные дубликаты удалены (4 строки), можем продолжать дальнейший анализ "
   ]
  },
  {
   "cell_type": "markdown",
   "id": "04a3f537-273b-4e00-9107-a166493e9ad4",
   "metadata": {},
   "source": [
    "#### Явные дубликаты\n",
    "\n",
    "Давайте узнаем, есть ли в наших данных явные дубликаты"
   ]
  },
  {
   "cell_type": "code",
   "execution_count": null,
   "id": "2a8e29f3-e06d-49f5-b5fb-5745f0b21027",
   "metadata": {},
   "outputs": [],
   "source": [
    "# Выводим количество дубликатов:\n",
    "duplicate_values = df.duplicated()\n",
    "duplicate_values.sum()"
   ]
  },
  {
   "cell_type": "markdown",
   "id": "22a7368d-a667-4b9e-87d9-aa8f2c8f3a65",
   "metadata": {},
   "source": [
    "Явные дубликаты не найдены, можем приступать к следующему шагу"
   ]
  },
  {
   "cell_type": "markdown",
   "id": "36b76820-76ec-4e90-b9b1-390390906c46",
   "metadata": {},
   "source": [
    "### Определение заведений с круглосуточным режимом работы "
   ]
  },
  {
   "cell_type": "markdown",
   "id": "93087691-17fb-44d3-80c3-a86eef3ec45f",
   "metadata": {},
   "source": [
    "Добавим новый столбец в наш датафрейм, который будет говорить о том, работает ли заведение круглосуточно или нет. `True` - заведение работает круглосуточно, `False` - заведение не работает 24/7\n",
    "\n",
    "Давайте проверим все уникальные значения в столбце `hours`"
   ]
  },
  {
   "cell_type": "code",
   "execution_count": null,
   "id": "19056d25-6686-4d7a-8fac-1a8e6a7579ba",
   "metadata": {},
   "outputs": [],
   "source": [
    "df['hours'].unique()"
   ]
  },
  {
   "cell_type": "code",
   "execution_count": null,
   "id": "0e6fa922-99c5-4253-993a-891c58d9d8b3",
   "metadata": {},
   "outputs": [],
   "source": [
    "# Добавим новый столбец\n",
    "def is_24_7(hours):\n",
    "    return 'ежедневно' in hours.lower() and 'круглосуточно' in hours.lower()\n",
    "\n",
    "# Применяем функцию к новому столбцу\n",
    "df['is_24_7'] = df['hours'].fillna(\"\").apply(is_24_7)\n",
    "\n",
    "# Подсчитаем сколько заведений работает круглосуточно\n",
    "df['is_24_7'].sum()"
   ]
  },
  {
   "cell_type": "code",
   "execution_count": null,
   "id": "9a096129-7df9-41e8-b196-b4c974994452",
   "metadata": {},
   "outputs": [],
   "source": [
    "#Выведем первые пять строк датафрейма с новым столбцом для проверки:\n",
    "df.head()"
   ]
  },
  {
   "cell_type": "markdown",
   "id": "2e00dad9-d97e-4908-bf50-fbad55d11884",
   "metadata": {},
   "source": [
    "Готово, теперь в нашем датасете содержится информация о том, работает ли заведение круглосуточно или нет"
   ]
  },
  {
   "cell_type": "markdown",
   "id": "677f6d2a-38d3-4e57-8bb5-2e24ca66f21a",
   "metadata": {},
   "source": [
    "Мы загрузили и подготовили данные к анализу. В ходе предобработки было выяснено что все данные соответствуют описанию, мы узнали количество дубликатов, пропусков а также добавили новый столбец с информацией о том, является ли заведение круглосуточным.\n",
    "\n",
    "Теперь мы можем приступать к анализу данных."
   ]
  },
  {
   "cell_type": "markdown",
   "id": "64d9bc7d-7416-4e62-9670-830a5b829177",
   "metadata": {},
   "source": [
    "## Шаг 3. Исследовательский анализ данных"
   ]
  },
  {
   "cell_type": "markdown",
   "id": "496f31ec-e3e9-4f9d-9193-444187b62005",
   "metadata": {},
   "source": [
    "### Анализ категорий заведений и их распределение"
   ]
  },
  {
   "cell_type": "markdown",
   "id": "68826d8d-9df3-4e86-9903-1cd54136d3a9",
   "metadata": {},
   "source": [
    "Давайте рассмотрим представленные категориии заведений и сколько заведений представлено в каждой из них: "
   ]
  },
  {
   "cell_type": "code",
   "execution_count": null,
   "id": "5d20a7c5-eb7d-41d1-bd6e-31d8ea96f291",
   "metadata": {},
   "outputs": [],
   "source": [
    "# Смотрим распределение по категориям\n",
    "df['category'].value_counts()"
   ]
  },
  {
   "cell_type": "markdown",
   "id": "cee3caaa-de45-4f92-990a-4b814dea9898",
   "metadata": {},
   "source": [
    "Для визуального анализа такого распределения можно использовать столбчатые диаграммы. Визуализируем распределение в столбце `category`:"
   ]
  },
  {
   "cell_type": "code",
   "execution_count": null,
   "id": "12e573f5-65f1-4114-ae89-90e9357a9c42",
   "metadata": {},
   "outputs": [],
   "source": [
    "# Создаём контейнер графика matplotlib и задаём его размер\n",
    "plt.figure(figsize=(7, 3))\n",
    "\n",
    "# Строим столбчатую диаграмму\n",
    "df['category'].value_counts().plot(\n",
    "    kind = 'bar',\n",
    "    legend = False,\n",
    "    title = 'Распределение точек общественного питания в зависимости от категории',\n",
    "    rot = 45\n",
    ")\n",
    "\n",
    "# Настраиваем оформление графика\n",
    "plt.grid()\n",
    "plt.xlabel('Категория заведения')\n",
    "plt.ylabel('Количество заведений')\n",
    "plt.show()"
   ]
  },
  {
   "cell_type": "markdown",
   "id": "ea9302e7-1053-429c-a568-2cd8060e5e8f",
   "metadata": {},
   "source": [
    "Мы видим что всего у нас представлено 8 категорий, самые популярные - кафе (2378), рестораны (2043) и кофейни (1413). Наименее популярные категории - булочные (256) и столовые (315)"
   ]
  },
  {
   "cell_type": "markdown",
   "id": "505d6b5f-e350-449c-a303-c84647ec844e",
   "metadata": {},
   "source": [
    "### Анализ заведений по административным округам\n",
    "\n",
    "Давайте рассмотрим заведения в зависимости от административных округов, в которых они находятся:"
   ]
  },
  {
   "cell_type": "code",
   "execution_count": null,
   "id": "2ab195d1-b485-4467-8179-97a8709839af",
   "metadata": {},
   "outputs": [],
   "source": [
    "df['district'].value_counts()"
   ]
  },
  {
   "cell_type": "markdown",
   "id": "22209d49-034c-4c8d-9d4c-7116f6b746d9",
   "metadata": {},
   "source": [
    "Как мы видим, у Центрального административного округа большой отрыв и он является самым популярным среди всех округов - 2242 заведения. А наименее популярный - Северо-Западный административный округ - всего 409 заведений.\n",
    "\n",
    "В остальном заведения распределены равномерно - около 800 точек на округ. \n",
    "\n",
    "Построим визуализацию чтобы четче видеть отрывы и распределение данных по округам:"
   ]
  },
  {
   "cell_type": "code",
   "execution_count": null,
   "id": "197c3f5d-545f-4c8c-a395-6a542d60e09b",
   "metadata": {},
   "outputs": [],
   "source": [
    "# Создаём контейнер графика matplotlib и задаём его размер\n",
    "plt.figure(figsize=(7, 3))\n",
    "\n",
    "# Строим столбчатую диаграмму\n",
    "df['district'].value_counts().sort_values(ascending=True).plot(\n",
    "    kind = 'barh',\n",
    "    legend = False,\n",
    "    title = 'Распределение точек общественного питания в зависимости от административного округа',\n",
    "    rot = 0\n",
    ")\n",
    "plt.grid()\n",
    "\n",
    "# Настраиваем оформление графика\n",
    "plt.ylabel('Административный округ')\n",
    "plt.xlabel('Количество заведений')\n",
    "plt.show()"
   ]
  },
  {
   "cell_type": "markdown",
   "id": "e4a22ebd-0a8f-49af-97e4-da4513bfc1f9",
   "metadata": {},
   "source": [
    "Теперь четко видно отрыв Центрального административного округа по сравнению с другими регионами.\n",
    "\n",
    "Давайте рассмотрим его поближе, а также узнаем какие категории популярны внутри Центрального административного округа"
   ]
  },
  {
   "cell_type": "code",
   "execution_count": null,
   "id": "d15e73b8-6eb3-4006-9e9e-3ed59236886c",
   "metadata": {},
   "outputs": [],
   "source": [
    "# Отфильтруем данные, оставив только те строки которые принадлежат Центральному административному округу\n",
    "df[df['district'] == 'Центральный административный округ'].groupby('category')['id'].count().sort_values(ascending = False)"
   ]
  },
  {
   "cell_type": "markdown",
   "id": "1c852564-0047-4573-8072-ff617504f6a4",
   "metadata": {},
   "source": [
    "Как мы видим, в отличие от всех округов в целом, где преобладала категория \"кафе\", конкретно в Центральном городском округе самая популярная категория это \"ресторан\".\n",
    "\n",
    "Давайте визуализируем и посмотрим наглядно:"
   ]
  },
  {
   "cell_type": "code",
   "execution_count": null,
   "id": "f1f3c591-0d03-4b08-8ad0-165b05b407f8",
   "metadata": {},
   "outputs": [],
   "source": [
    "# Создаём контейнер графика matplotlib и задаём его размер\n",
    "plt.figure(figsize=(7, 3))\n",
    "\n",
    "# Строим визуализацию\n",
    "df[df['district'] == 'Центральный административный округ'].groupby('category')['id'].count().sort_values(ascending = True).plot(\n",
    "    kind = 'barh',\n",
    "    legend = False,\n",
    "    title = 'Распределение категорий точек питания в Центральном административном округе',\n",
    "    rot = 0\n",
    ")\n",
    "plt.grid()\n",
    "plt.show()"
   ]
  },
  {
   "cell_type": "markdown",
   "id": "69cae03a-c0af-4b6a-8d32-5c6baa1249ed",
   "metadata": {},
   "source": [
    "Действительно, у ресторанов в этом регионе достаточно большой отрыв от других категорий. Но самые непопулярные так и остались - булочная и столовая"
   ]
  },
  {
   "cell_type": "markdown",
   "id": "3e58de31-2d28-4a09-8489-0502691e264a",
   "metadata": {},
   "source": [
    "### Анализ сетевых и несетевых заведений\n",
    "\n",
    "Давайте посмотрим сколько заведений являются сетевыми"
   ]
  },
  {
   "cell_type": "code",
   "execution_count": null,
   "id": "d2a8373f-80b4-4870-b521-6b08975f28e0",
   "metadata": {},
   "outputs": [],
   "source": [
    "# Группируем данные в зависимости от того, является ли заведение сетевым \n",
    "absolute_value = df.groupby('chain')['id'].count()\n",
    "\n",
    "# Добавляем относительные величины\n",
    "percentage = df['chain'].value_counts(normalize=True) *100\n",
    "absolute_value, percentage"
   ]
  },
  {
   "cell_type": "markdown",
   "id": "30e1b744-056a-41d1-af72-e9a5fd545ee6",
   "metadata": {},
   "source": [
    "Как можно заметить, несетевых заведений гораздо больше чем сетевых. 62% против 38%, для наглядности посмотрим на график:"
   ]
  },
  {
   "cell_type": "code",
   "execution_count": null,
   "id": "2b818d88-86f9-4a93-9c70-e96a630e2361",
   "metadata": {},
   "outputs": [],
   "source": [
    "# Создаём контейнер графика matplotlib и задаём его размер\n",
    "plt.figure(figsize=(7, 3))\n",
    "\n",
    "# Считаем процентное соотношение\n",
    "chain_percentage = df['chain'].value_counts(normalize=True) * 100  \n",
    "\n",
    "# Определяем подписи для категорий\n",
    "labels = ['Несетевые', 'Сетевые']\n",
    "\n",
    "# Строим круговую диаграмму\n",
    "plt.figure(figsize=(6, 6))  \n",
    "plt.pie(chain_percentage, labels=labels, autopct='%1.1f%%', startangle=90)\n",
    "\n",
    "# Добавляем заголовок\n",
    "plt.title('Доля сетевых и несетевых заведений')\n",
    "\n",
    "# Показываем график\n",
    "plt.show()"
   ]
  },
  {
   "cell_type": "markdown",
   "id": "ca1f37a8-5e0a-4a7f-8794-99c10134b29a",
   "metadata": {},
   "source": [
    "Теперь мы нагладно видим насколько несетевые заведения преобладают"
   ]
  },
  {
   "cell_type": "markdown",
   "id": "a84a0198-07b9-4f1f-8fad-58561243e6ff",
   "metadata": {},
   "source": [
    "\n",
    "Давайте рассмотрим категории заведений по тому, являются ли они сетевыми. Так мы сможем сказать, какие категории чаще всего становятся сетевыми"
   ]
  },
  {
   "cell_type": "code",
   "execution_count": null,
   "id": "32af80d0-4f03-4df8-af69-b3cf21a21c01",
   "metadata": {},
   "outputs": [],
   "source": [
    "# Сгруппируем данные по категории и тому является заведение сетевым\n",
    "df.groupby('category')['chain'].value_counts().unstack(fill_value=0)"
   ]
  },
  {
   "cell_type": "markdown",
   "id": "2058cb2c-f924-407e-808b-3b89be871218",
   "metadata": {},
   "source": [
    "По количеству сетевых и несетевых точек, лидируют кафе и рестораны, но в данных их количество в принципе преобладает, так что нужно рассматривать анализ сетевых и несетевых точек с точки зрения долей и относительных значений.\n",
    "\n",
    "Построим визуализацию и рассмотрим наглядно"
   ]
  },
  {
   "cell_type": "code",
   "execution_count": null,
   "id": "3c5a6c4b-bc11-466a-a7f5-46f463141c7e",
   "metadata": {},
   "outputs": [],
   "source": [
    "# Создаём контейнер графика matplotlib и задаём его размер\n",
    "plt.figure(figsize=(10, 5))\n",
    "\n",
    "# Считаем долю сетевых заведений по каждой категории\n",
    "category_chain_ratio = df.groupby('category')['chain'].mean() * 100\n",
    "\n",
    "# Строим график\n",
    "category_chain_ratio.sort_values().plot(\n",
    "    kind='barh',\n",
    "    title='Доля сетевых заведений в зависимости от категории',\n",
    "    xlabel='Доля сетевых заведений (%)',\n",
    "    ylabel='Категория',\n",
    "    grid=True\n",
    ")\n",
    "\n",
    "# Отображаем график\n",
    "plt.show()"
   ]
  },
  {
   "cell_type": "markdown",
   "id": "6b788917-c813-4ee7-a5f0-d3b62026d3ad",
   "metadata": {},
   "source": [
    "Хоть больше всего сетевые заведения являются заведения категории кафе, из всех категорий, булочные лидируют по доле сетевых точек на несетевые (больше 60% булочных - сетевые). Можно сказать что булочные чаще оказываются сетевыми чем все остальные категории"
   ]
  },
  {
   "cell_type": "markdown",
   "id": "e5e6e416-2685-4d9b-b13e-ab327bbf8335",
   "metadata": {},
   "source": [
    "### Анализ посадочных мест"
   ]
  },
  {
   "cell_type": "markdown",
   "id": "af777500-caea-4088-aa9a-0c740f934315",
   "metadata": {},
   "source": [
    "Проведем исследование количества посадочных мест, будем использовать метод `describe`"
   ]
  },
  {
   "cell_type": "code",
   "execution_count": null,
   "id": "de749ec1-6e5a-42db-9566-f70d8ecd8f46",
   "metadata": {},
   "outputs": [],
   "source": [
    "# Выводим статистические показатели\n",
    "df['seats'].describe()"
   ]
  },
  {
   "cell_type": "markdown",
   "id": "00cb8e70-5155-459f-933a-b0bf50b63b48",
   "metadata": {},
   "source": [
    "Как мы можем заметить, медиана (50-й процентиль - 75) и среднее арифметическое (108.4) сильно отличаются друг от дурга, также мы видим большую разницу между 75-м процентилем (140) и максимальным значением (1288). Это говорит о выбросах в данных, нам надо изучить аномальные значения и решить как с ними работать.\n",
    "\n",
    "Давайте посмотрим на распределение значений внутри столбца `seats`, для этого построим *гистограмму*"
   ]
  },
  {
   "cell_type": "code",
   "execution_count": null,
   "id": "b90e7c92-0f1d-405a-8c4c-19e2ed1cde34",
   "metadata": {},
   "outputs": [],
   "source": [
    "# Создаём контейнер графика matplotlib и задаём его размер\n",
    "plt.figure(figsize=(7, 3))\n",
    "\n",
    "# Построим график столбчатой диаграммы\n",
    "df['seats'].plot(\n",
    "    kind = 'hist',\n",
    "    title = f'Распределение количества мест',\n",
    "    bins = 50,\n",
    "    ylabel ='Частота',\n",
    "    xlabel = 'Количество мест',\n",
    "    rot = 0\n",
    ")\n",
    "plt.grid()\n",
    "\n",
    "# Выводим график\n",
    "plt.show()"
   ]
  },
  {
   "cell_type": "markdown",
   "id": "dd024a6d-7ea7-4818-a7d6-6f5eb25e9af6",
   "metadata": {},
   "source": [
    "Действительно, как видно на графике распределение значений очень сильно сдвинуто, мы видим длинный хвост в право. Следовательно, это данные с сильным правым смещением. Поскольку в данных нет категории типа \"Банкетный зал\" или \"фудкорт\" - эти значения говорят нам о выбросах, это аномальные значения которые помешают нам в дальнейшем анализе.\n",
    "\n",
    "Рассмотрим аномалии детально, используя \"Ящик с усами\" `boxplot`"
   ]
  },
  {
   "cell_type": "code",
   "execution_count": null,
   "id": "781b98bd-5cb6-4b88-a4d9-e2915fabc532",
   "metadata": {},
   "outputs": [],
   "source": [
    "# Создаём контейнер графика matplotlib и задаём его размер\n",
    "plt.figure(figsize=(7, 3))\n",
    "\n",
    "# Построим график столбчатой диаграммы\n",
    "df.boxplot(column = 'seats', vert = False)\n",
    "\n",
    "# Добавляем заголовок и метки оси\n",
    "plt.title('Распределение количества мест')\n",
    "plt.xlabel('Количество мест')\n",
    "\n",
    "# Выводим график\n",
    "plt.show()"
   ]
  },
  {
   "cell_type": "markdown",
   "id": "f4a9aecf-63d5-4645-b414-86bd34c12878",
   "metadata": {},
   "source": [
    "Действительно, мы имеем дело с большим количеством выбросов, так как заранее известно что данные берутся из открытых источников или добавляются гостями, природа этих выбросов скорее всего - ошибка ручного ввода или техническая ошибка. \n",
    "\n",
    "Давайте нормализуем график и посмотрим на него без аномальных значений, для этого передадим значение `False` параметру `showfliers`:"
   ]
  },
  {
   "cell_type": "code",
   "execution_count": null,
   "id": "de28b70a-6b92-439e-b86c-2d11f5ced9c1",
   "metadata": {},
   "outputs": [],
   "source": [
    "# Создаём контейнер графика matplotlib и задаём его размер\n",
    "plt.figure(figsize=(7, 3))\n",
    "\n",
    "# Построим график столбчатой диаграммы\n",
    "df.boxplot(column = 'seats', vert = False, showfliers=False)\n",
    "\n",
    "# Добавляем заголовок и метки оси\n",
    "plt.title('Распределение количества мест')\n",
    "plt.xlabel('Количество мест')\n",
    "\n",
    "# Выводим график\n",
    "plt.show()"
   ]
  },
  {
   "cell_type": "markdown",
   "id": "f182a784-8a61-4953-8a34-2c782b96d556",
   "metadata": {},
   "source": [
    "Теперь мы четко видим медиану (75) и наблюдаемый максимум без учета аномалий ~275 - мы будем убирать значения выше этого чтобы не искажать дальнейший анализ"
   ]
  },
  {
   "cell_type": "markdown",
   "id": "d9dfbe93-836c-44ae-a11a-7d9fba3c07c3",
   "metadata": {},
   "source": [
    "#### Количество посадочных мест в зависимости от категорий"
   ]
  },
  {
   "cell_type": "markdown",
   "id": "2823b24d-cbcd-4ef1-829c-a949cbf8e291",
   "metadata": {},
   "source": [
    "Давайте рассмотрим медиану количества посадочных мест в зависимости от категории заведения чтобы ответить на вопрос - Какое количество посадочных мест типично для каждой категории?"
   ]
  },
  {
   "cell_type": "code",
   "execution_count": null,
   "id": "5ea5889c-89ef-49d8-bf6f-af58c2d1f251",
   "metadata": {},
   "outputs": [],
   "source": [
    "# Сгруппируем данные по категории заведения\n",
    "df[df['seats'] < 275].groupby('category')['seats'].median().sort_values(ascending = False)"
   ]
  },
  {
   "cell_type": "markdown",
   "id": "6845e7da-37d1-4b00-ab7a-1101671f09de",
   "metadata": {},
   "source": [
    "По количеству посадочных мест лидируют рестораны (80 посадочных мест) и пабы (75 посадочных места). А наименьшее количество посадочных мест у булочных (48 посадочных мест) и пиццерий (50 посадочных мест)\n",
    "\n",
    "Рассмотрим наглядно и построим столбчатую диаграмму:"
   ]
  },
  {
   "cell_type": "code",
   "execution_count": null,
   "id": "68b00a83-e7bf-4c7b-982f-249e1b1c2e89",
   "metadata": {},
   "outputs": [],
   "source": [
    "# Создаём контейнер графика matplotlib и задаём его размер\n",
    "plt.figure(figsize=(7, 3))\n",
    "\n",
    "# Построим график столбчатой диаграммы\n",
    "df[df['seats'] < 275].groupby('category')['seats'].median().sort_values().plot( \n",
    "    kind = 'barh',\n",
    "    title = f'Среднее количество посадочных мест в зависимости от категории',\n",
    "    legend = True,\n",
    "    ylabel ='Категория',\n",
    "    xlabel = 'Количество мест',\n",
    "    rot = 0\n",
    ")\n",
    "plt.grid()\n",
    "\n",
    "# Выводим график\n",
    "plt.show()"
   ]
  },
  {
   "cell_type": "markdown",
   "id": "028e94ea-c5dc-45ba-aa66-a6193e9c962f",
   "metadata": {},
   "source": [
    "Действительно, рестораны и пабы лидируют по количеству мест, а у булочных и пиццерий мест гораздо меньше - это объяснимо, так как обычно люди не задерживаются в таких местах, это будет либо перекус на ходу или доставка в случае с пиццериями, в отличие от ресторанов и баров где люди проводят больше времени."
   ]
  },
  {
   "cell_type": "markdown",
   "id": "886444c0-6164-433d-b598-524a27c8d631",
   "metadata": {},
   "source": [
    "### Анализ рейтингов заведения"
   ]
  },
  {
   "cell_type": "markdown",
   "id": "d137a7f3-245e-4419-ac4e-1583fb81e06a",
   "metadata": {},
   "source": [
    "Давайте рассмотрим столбец с рейтингами с помощью метода `describe` "
   ]
  },
  {
   "cell_type": "code",
   "execution_count": null,
   "id": "aca687bc-8722-4bed-af41-aecfc72dff02",
   "metadata": {},
   "outputs": [],
   "source": [
    "# Смотрим статистические показатели столбца с рейтингами \n",
    "df['rating'].describe()"
   ]
  },
  {
   "cell_type": "markdown",
   "id": "fc2732d6-0a6d-4f71-a9ef-972f142d557e",
   "metadata": {},
   "source": [
    "Данные тут соответствуют описанию - рейтинги от 1 до 5, разница между средим (4.2) и медианой (4.3) минимальная, стандартное отклонение всего 0.47 - тут *нормальное распределие данных* без выбросов и аномальных значений"
   ]
  },
  {
   "cell_type": "markdown",
   "id": "ce92c377-fded-4b67-bd19-97424941dc66",
   "metadata": {},
   "source": [
    "Аналогично с посадочными местами, давайте рассмотрим рейтинги в зависимости от категории заведений:"
   ]
  },
  {
   "cell_type": "code",
   "execution_count": null,
   "id": "ac611611-bdba-4115-be24-f4a4111afa91",
   "metadata": {},
   "outputs": [],
   "source": [
    "# Выводим средний рейтинг по категориям\n",
    "df.groupby('category')['rating'].mean().sort_values(ascending = False)"
   ]
  },
  {
   "cell_type": "markdown",
   "id": "a01a1346-74c6-4114-b2da-7bb90b34ebd0",
   "metadata": {},
   "source": [
    "Как мы видим, у баров (4.4), пиццерий (4.3) и ресторанов (4.3) в среднем рейтинг выше чем у других категорий, а вот у точек быстрого питание (4.0) и кафе (4.1) - ниже.\n",
    "\n",
    "Рассмотрим на диаграмме:"
   ]
  },
  {
   "cell_type": "code",
   "execution_count": null,
   "id": "2493960b-e163-482f-bd46-10981925cee0",
   "metadata": {},
   "outputs": [],
   "source": [
    "# Создаём контейнер графика matplotlib и задаём его размер\n",
    "plt.figure(figsize=(7, 3))\n",
    "\n",
    "# Построим график столбчатой диаграммы\n",
    "df.groupby('category')['rating'].mean().sort_values().plot( \n",
    "    kind = 'barh',\n",
    "    title = f'Средний рейтинг заведения в зависимости от категории',\n",
    "    legend = True,\n",
    "    ylabel ='Категория',\n",
    "    xlabel = 'Средний рейтинг',\n",
    "    rot = 0\n",
    ")\n",
    "plt.grid()\n",
    "\n",
    "# Выводим график\n",
    "plt.show()"
   ]
  },
  {
   "cell_type": "markdown",
   "id": "9eba3a38-492c-4950-b227-355e08c74f78",
   "metadata": {},
   "source": [
    "У всех категорий средний рейтинг в диапазоне от 4 до 4.4, они не сильно отличаются и в целом это хороший рейтинг - это может говорить нам о хорошем качестве заведений в Москве"
   ]
  },
  {
   "cell_type": "markdown",
   "id": "a5e73582-82b0-44e7-a8a6-427b6b0e2e3d",
   "metadata": {},
   "source": [
    "### Анализ взаимосвязей между данными и рейтингом"
   ]
  },
  {
   "cell_type": "markdown",
   "id": "d93b6a60-08e4-4465-992a-2efb43b58b38",
   "metadata": {},
   "source": [
    "Давайте рассмотрим все данные с точки зрения коэффицента корреляции с рейтингом, так мы можем выдвинуть гипотезы о причинности и ответить на вопрос, какое отношение имеют данные к рейтингу.\n",
    "\n",
    "Чтобы понять, существует ли связь между данными, аналитики часто используют матрицы корреляции для признаков в данных. Для задачи важен столбец churn, поэтому будем изучать взаимосвязи данных в этом столбце с другими признаками. В Python существует универсальная библиотека phik, которая помогает изучать связи между данными разного типа, непрерывными и категориальными.\n",
    "\n",
    "Библиотеку phik можно использовать для анализа связи между значением рейтинга и другими признаками. Они как раз представлены разными по природе данными: встречаются непрерывные значения, как количество мест, так и категории, например ценовая категория и административный округ.\n",
    "\n",
    "Построим матрицу корреляций:"
   ]
  },
  {
   "cell_type": "code",
   "execution_count": null,
   "id": "e2925eff-758b-4f11-98a7-244b15bd6031",
   "metadata": {},
   "outputs": [],
   "source": [
    "# Вычисляем корреляционную матрицу с использованием phi_k\n",
    "correlation_matrix = df[['district', 'category', 'chain', 'seats', 'price',\n",
    "                         'is_24_7', 'rating']].phik_matrix()\n",
    "\n",
    "# Выводим результат\n",
    "display('Корреляционная матрица с коэффициентом phi_k для переменной rating')\n",
    "correlation_matrix.loc[correlation_matrix.index != 'rating'][['rating']].sort_values(by='rating', ascending=False)"
   ]
  },
  {
   "cell_type": "markdown",
   "id": "d1507a05-8697-41d2-b7ec-305c97dc79dc",
   "metadata": {},
   "source": [
    "Нас интересует связь рейтинга заведения с другими данными, поэтому на экран был выведен только столбец `rating` итоговой матрицы корреляции `correlation_matrix`. Условие `correlation_matrix.loc[correlation_matrix.index != 'churn']` помогает убрать строку с индексом `'rating'`.\n",
    "\n",
    "Наибольшая корреляция рейтинга наблюдается с данными о цене (0.22) и административном округе (0.20). Самая минимальная корреляция у рейтинга и количества посадочных мест.\n",
    "\n",
    "Для наглядности визуализируем результат корреляции с помощью тепловой карты и библиотеки seaborn:"
   ]
  },
  {
   "cell_type": "code",
   "execution_count": null,
   "id": "0f77be3e-340c-44c5-8b1e-e88b9cba01b2",
   "metadata": {},
   "outputs": [],
   "source": [
    "# Создаём контейнер графика matplotlib и задаём его размер\n",
    "plt.figure(figsize=(2, 6))\n",
    "\n",
    "# Построим график heatmap с помощью библиотеки seaborn\n",
    "data_heatmap = correlation_matrix.loc[correlation_matrix.index != 'rating'][['rating']].sort_values(by='rating', ascending=False)\n",
    "sns.heatmap(\n",
    "    data_heatmap,\n",
    "    annot = True,\n",
    "    fmt = '.2f',\n",
    "    cmap = 'coolwarm',\n",
    "    linewidths=0.5\n",
    ")\n",
    "\n",
    "# Выводим график\n",
    "plt.show()"
   ]
  },
  {
   "cell_type": "markdown",
   "id": "149865f3-5f72-4213-95fe-5d1cedaa166f",
   "metadata": {},
   "source": [
    "Теперь корреляция между рейтингом и другими признаками наглядно отображена. Самая сильная взаимосвязь наблюдается между рейтингом и ценовой категорией, давайте проверим эту связь \n"
   ]
  },
  {
   "cell_type": "markdown",
   "id": "f52ca990-79ad-42cb-aaa7-5a3ce15ba10d",
   "metadata": {},
   "source": [
    "#### Проверка взаимосвязей между ценой и рейтингом"
   ]
  },
  {
   "cell_type": "code",
   "execution_count": null,
   "id": "acc5cba2-0480-4433-9b2b-a06ec9fa84d6",
   "metadata": {},
   "outputs": [],
   "source": [
    "# Группируем данные для проверки взаимосвязей\n",
    "df.groupby('price')['rating'].mean()"
   ]
  },
  {
   "cell_type": "markdown",
   "id": "796f63e9-a8fa-41a0-b385-9b26aaa4695c",
   "metadata": {},
   "source": [
    "Давайте рассмотрим наглядно и построим график:"
   ]
  },
  {
   "cell_type": "code",
   "execution_count": null,
   "id": "20e04842-5e62-4267-9710-b7b91a00b8cf",
   "metadata": {},
   "outputs": [],
   "source": [
    "# Создаём контейнер графика matplotlib и задаём его размер\n",
    "plt.figure(figsize=(7, 3))\n",
    "\n",
    "# Построим график столбчатой диаграммы\n",
    "df.groupby('price')['rating'].mean().sort_values().plot( \n",
    "    kind = 'barh',\n",
    "    title = f'Средний рейтинг заведения в зависимости от ценовой категории',\n",
    "    legend = False,\n",
    "    ylabel ='Ценовая категория',\n",
    "    xlabel = 'Средний рейтинг',\n",
    "    rot = 0\n",
    ")\n",
    "plt.grid()\n",
    "\n",
    "# Выводим график\n",
    "plt.show()"
   ]
  },
  {
   "cell_type": "markdown",
   "id": "04a5266d-6199-4d50-ab5b-14a0386f7c2d",
   "metadata": {},
   "source": [
    "Действительно видно, что у цены и рейтинга есть положительная корреляция. Чем выше цена - тем выше и средний рейтинг.\n"
   ]
  },
  {
   "cell_type": "markdown",
   "id": "a4f44621-038f-4ab5-83c2-e0226f3de5cb",
   "metadata": {},
   "source": [
    "### Топ-15 популярных сетей в Моксве"
   ]
  },
  {
   "cell_type": "markdown",
   "id": "052ca7b9-91c7-4ca5-b65e-c1b014b03e66",
   "metadata": {},
   "source": [
    "Для анализа популярности сетевых ресторанов в Москве, создадим новый датафрейм чтобы провести дальнейший анализ по нему "
   ]
  },
  {
   "cell_type": "code",
   "execution_count": null,
   "id": "7de1628a-7656-4695-aaec-c39d654e184b",
   "metadata": {},
   "outputs": [],
   "source": [
    "# Выводим топ-15 заведений по популярности и средний рейтинг\n",
    "top_15 = df[df['chain'] == 1].groupby(['name', 'category']).agg(name_count = ('name', 'count'), rating_mean = ('rating', 'mean')).sort_values(by = 'name_count', ascending = False).head(15).reset_index()\n",
    "\n",
    "display('Топ-15 популярных сетей в Москве')\n",
    "top_15"
   ]
  },
  {
   "cell_type": "code",
   "execution_count": null,
   "id": "b8c178ed-8dfc-4363-ae28-20671bea6af6",
   "metadata": {},
   "outputs": [],
   "source": [
    "# Создаём контейнер графика matplotlib и задаём его размер\n",
    "plt.figure(figsize=(10, 6))\n",
    "\n",
    "# Построим график столбчатой диаграммы\n",
    "top_15.set_index('name')['name_count'].sort_values(ascending = True).plot( \n",
    "    kind = 'barh',\n",
    "    title = f'Топ-15 самых популярных сетей по количеству точек в Москве',\n",
    "    legend = True,\n",
    "    ylabel ='Название сети',\n",
    "    xlabel = 'Количество точек в Москве',\n",
    "    rot = 0\n",
    ")\n",
    "plt.grid()\n",
    "\n",
    "# Выводим график\n",
    "plt.show()"
   ]
  },
  {
   "cell_type": "markdown",
   "id": "294b8996-8937-4840-a217-b7ee1bec257e",
   "metadata": {},
   "source": [
    "Самая популярная сеть в Москве это \"Шоколадница\" с большим отрывом по количеству заведений - 119 точек\n",
    "\n",
    "Давайте рассмотрим в разрезе по категориям, какая категория чаще встречается среди самых популярных сетевых заведений:"
   ]
  },
  {
   "cell_type": "code",
   "execution_count": null,
   "id": "d3730b5d-aae5-417b-be9d-e487431d4c5b",
   "metadata": {},
   "outputs": [],
   "source": [
    "# Посмотрим какая категория самая частая среди самых популярных сетевых заведений\n",
    "top_15.groupby('category').agg(category_count = ('category', 'count'), name_sum = ('name_count', 'sum')).sort_values(by = 'category_count', ascending = False)"
   ]
  },
  {
   "cell_type": "markdown",
   "id": "2a2eef01-046c-4c14-a661-cbbdeb555ade",
   "metadata": {},
   "source": [
    "Из 15 самых популярных сетей:\n",
    "* 6 сетей являются кофейнями (всего 350 заведений)\n",
    "* 3 сети - рестораны (154 заведения)\n",
    "* 3 сети - кафе (89 заведений)\n",
    "* 2 сети - пиццерии (150 заведений)\n",
    "* 1 - булочная (25 заведений)\n",
    "\n",
    "Давайте построим визуализацию "
   ]
  },
  {
   "cell_type": "code",
   "execution_count": null,
   "id": "869361ba-9dfd-4308-ba08-e3f99a517db9",
   "metadata": {},
   "outputs": [],
   "source": [
    "# Создаём контейнер графика matplotlib и задаём его размер\n",
    "plt.figure(figsize=(10, 6))\n",
    "\n",
    "# Построим график столбчатой диаграммы\n",
    "top_15.groupby('category')['category'].count().sort_values().plot( \n",
    "    kind = 'barh',\n",
    "    title = f'Категории 15-ти самых больших сетей общественного питания в Москве',\n",
    "    legend = True,\n",
    "    ylabel ='Категория',\n",
    "    xlabel = 'Количество сетей (из топ-15 самых больших сетей)',\n",
    "    rot = 0\n",
    ")\n",
    "plt.grid()\n",
    "\n",
    "# Выводим график\n",
    "plt.show()"
   ]
  },
  {
   "cell_type": "markdown",
   "id": "308a64dd-3fd5-4f53-b8bb-456de168cf57",
   "metadata": {},
   "source": [
    "Самая популярная категория для наибольших сетей в Москве - Кофейня, а второе место поделено между ресторанами и кафе "
   ]
  },
  {
   "cell_type": "markdown",
   "id": "7c2bc8d9-87cf-4c5d-864e-dd5b306de0b9",
   "metadata": {},
   "source": [
    "### Вариация среднего чека в зависимости от региона"
   ]
  },
  {
   "cell_type": "markdown",
   "id": "ae072476-2b97-486a-928d-4f3637f6621f",
   "metadata": {},
   "source": [
    "Давайте рассмотрим столбец `middle_avg_bill` в котором хранятся средние чеки заведений и посмотрим, как меняется средний чек в зависимости от региона Москвы"
   ]
  },
  {
   "cell_type": "code",
   "execution_count": null,
   "id": "826a5622-66f3-4894-ba52-2885f4986d27",
   "metadata": {},
   "outputs": [],
   "source": [
    "# Посмотрим статистические данные по столбцу\n",
    "df['middle_avg_bill'].describe()"
   ]
  },
  {
   "cell_type": "markdown",
   "id": "b7cda67c-1b08-432d-bb10-877c1a1e8d28",
   "metadata": {},
   "source": [
    "Мы видим что максимальное значение (35000) сильно отличается от 75-го перцентиля (1250) , а также медиана (750) отличается от среднего значения (958).\n",
    "\n",
    "Скорее всего дело не в выбросах, а в премиальности заведения. Мы не можем судить о цене как об аномальном значении, это может быть средний чек премиального ресторана в центре Москвы.\n",
    "\n",
    "Давайте рассмотрим средний чек в зависимости от округа Москвы:"
   ]
  },
  {
   "cell_type": "code",
   "execution_count": null,
   "id": "3f99c0ec-40e9-493b-88f4-a0ae717279cb",
   "metadata": {},
   "outputs": [],
   "source": [
    "# Группируем данные по округам\n",
    "df.groupby('district')['middle_avg_bill'].mean().sort_values(ascending = False)"
   ]
  },
  {
   "cell_type": "markdown",
   "id": "83b85fba-f523-4fae-8735-ccb77ff565d3",
   "metadata": {},
   "source": [
    "Как мы видим исходя из данных, самый высокий средний чек в заведениях, которые расположены в Центральном административном округе Москвы - 1191 руб.\n",
    "\n",
    "Самый маленький средний чек (654 руб.) в Юго-Восточном административном округе\n",
    "\n",
    "Рассмотрим наглядно:"
   ]
  },
  {
   "cell_type": "code",
   "execution_count": null,
   "id": "4d0963cd-0364-4f61-8ebd-e698af356017",
   "metadata": {},
   "outputs": [],
   "source": [
    "\n",
    "# Создаём контейнер графика matplotlib и задаём его размер\n",
    "plt.figure(figsize=(10, 6))\n",
    "\n",
    "# Построим график столбчатой диаграммы\n",
    "df.groupby('district')['middle_avg_bill'].mean().sort_values().plot( \n",
    "    kind = 'barh',\n",
    "    title = f'Категории 15-ти самых больших сетей общественного питания в Москве',\n",
    "    legend = True,\n",
    "    ylabel ='Категория',\n",
    "    xlabel = 'Количество сетей (из топ-15 самых больших сетей)',\n",
    "    rot = 0\n",
    ")\n",
    "plt.grid()\n",
    "\n",
    "# Выводим график\n",
    "plt.show()"
   ]
  },
  {
   "cell_type": "markdown",
   "id": "13e71126-e285-4cab-a3d4-37d7b009d6e1",
   "metadata": {},
   "source": [
    "Действительно, Центральный административный округ обгоняет все остальные районы по среднему чеку, то есть в центре города больше дорогих заведений. То есть действительно - чем центральнее заведение, тем больше шансов что заведение будет с высоким средним чеком\n",
    "\n",
    "Но поскольку остальные округа располагаются по кругу от Центрального округа - мы с точностью не можем сказать обратное - что чем дальше от центра - тем дешевле заведения. Для проверки этой гипотезы нам нужно больше данных, например - средний чек по районам Подмосковья"
   ]
  },
  {
   "cell_type": "markdown",
   "id": "51183bd9-9de9-45c9-9971-b48fcb849f9b",
   "metadata": {},
   "source": [
    "## Шаг 4. Итоговый вывод и рекомендации"
   ]
  },
  {
   "cell_type": "markdown",
   "id": "880be655-8cb4-4a07-b849-3cb5300c6540",
   "metadata": {},
   "source": [
    "#### Общий обзор проделанной работы"
   ]
  },
  {
   "cell_type": "markdown",
   "id": "11ba8116-41ae-4ac5-b735-d2c92c7617fc",
   "metadata": {},
   "source": [
    "В ходе работы был проведён исследовательский анализ рынка заведений общественного питания в Москве. Данные из двух датасетов были объединены, очищены от пропусков и дубликатов, а также дополнены новыми признаками. Исследовано распределение заведений по категориям и районам, выявлено соотношение сетевых и несетевых объектов, проанализированы рейтинги, количество посадочных мест и средний чек. Особое внимание уделено влиянию расположения на ценовую политику."
   ]
  },
  {
   "cell_type": "markdown",
   "id": "31cd0261-c4d4-4b3c-8cc9-1d35d7e8870c",
   "metadata": {},
   "source": [
    "#### Ответы на исследовательские вопросы "
   ]
  },
  {
   "cell_type": "markdown",
   "id": "9bf34ef2-d920-4476-b743-95977d063255",
   "metadata": {},
   "source": [
    "В ходе анализа было выявлено, что всего за лето 2022 года было представлено 8 категорий заведений, чаще всего по всем данным встречаются: \n",
    "* Кафе (2378 заведений)\n",
    "* Рестораны (2043 заведений)\n",
    "* Кофейни (1413 заведений)\n",
    "\n",
    "Однако в Центральном административном самая популярная категория это Ресторан (670 заведений)\n",
    "\n",
    "Из всех представленных заведений 38% являются сетевыми - 3205 заведений и 62% являются несетевыми - 5201 заведение. Как среди сетевых так и несетевых, самая популярная категория - кафе (1599 среди несетевых и 779 сетевых). **Однако, булочные лидируют по доле сетевых точек на несетевые. Можно сказать что булочные чаще оказываются сетевыми чем все остальные категории. Больше 60% булочных являются сетевыми**\n",
    "\n",
    "По количеству посадочных мест лидируют рестораны (80 посадочных мест) и пабы (75 посадочных места). А наименьшее количество посадочных мест у булочных (48 посадочных мест) и пиццерий (50 посадочных мест)\n",
    "\n",
    "У всех категорий средний рейтинг в диапазоне от 4 до 4.4, они не сильно отличаются. \n",
    "У баров (4.4), пиццерий (4.3) и ресторанов (4.3) в среднем рейтинг выше чем у других категорий, а вот у точек быстрого питание (4.0) и кафе (4.1) - ниже.\n",
    "\n",
    "Самая сильная связь в данных по рейтингу у ценовой категории. Мы выяснили что у этих двух значений положительная корреляция, то есть чем выше ценовая категория - тем выше и рейтинг заведения.\n",
    "\n",
    "\n",
    "В топ-15 сетевых заведений по популярности (количеству точек) вошли такие заведения как:\n",
    "1. Шоколадница\n",
    "2. Домино'с Пицца\n",
    "3. Додо Пицца\n",
    "4. One Price Coffee\n",
    "5. Яндекс Лавка\n",
    "6. Cofix\n",
    "7. Prime\n",
    "8. КОФЕПОРТ\n",
    "9. Кулинарная лавка братьев Караваевых\n",
    "10. Теремок\n",
    "11. CofeFest\n",
    "12. Чайхана\n",
    "13. Буханка\n",
    "14. Drive Café\n",
    "15. Кофемания\n",
    "\n",
    "6 из них являются кофейнями и всего 1 из них - булочная\n",
    "\n",
    "Самый высокий средний чек у Центрального административного района - 1191 руб. На втором месте Западный административный округ - 1053 руб.\n",
    "Самый маленький средний чек у Юго-Восточного административного округа - 654 руб."
   ]
  },
  {
   "cell_type": "markdown",
   "id": "9bf58c78-0127-46f5-a001-3f5b6bb81d13",
   "metadata": {},
   "source": [
    "#### Рекомендации на основе анализа данных"
   ]
  },
  {
   "cell_type": "markdown",
   "id": "0af4bc77-c45e-4642-b430-7a9447274539",
   "metadata": {},
   "source": [
    "Для успешного выхода на рынок общественного питания в Москве инвесторам стоит учитывать несколько ключевых факторов. Центральный административный округ привлекает заведения с более высоким средним чеком, что делает его перспективным местом для ресторанов и премиальных кафе. Однако конкуренция здесь особенно высока, и стоит обратить внимание на уникальность концепции. В спальных районах, таких как Юго-Восточный административный округ, средний чек ниже, но возможно большее количество посетителей за счёт доступности цен.\n",
    "\n",
    "Сетевые заведения составляют 38% рынка, при этом наиболее распространённой категорией остаются кафе — как среди сетевых, так и несетевых заведений (1599 несетевых и 779 сетевых). Однако, булочные выделяются на фоне других категорий: более 60% из них являются сетевыми, что делает их лидерами по доле сетевых точек. Это говорит о том, что булочные чаще развиваются в формате сети, в отличие от кафе и ресторанов, где преобладают несетевые заведения.\n",
    "\n",
    "Открытие сетевого проекта может быть выгодным, особенно в формате булочных и кофеен, которые демонстрируют устойчивый спрос и активно масштабируются. При этом рейтинг заведений положительно коррелирует с ценовой категорией, что подтверждает важность продуманного ценообразования и высокого уровня сервиса.\n",
    "\n",
    "Количество посадочных мест варьируется в зависимости от формата заведения. Для ресторанов и пабов важно предусмотреть комфортное размещение гостей, тогда как для пиццерий и булочных можно ограничиться меньшим количеством посадочных мест, делая упор на удобство и скорость обслуживания.\n",
    "\n",
    "На основе анализа можно рекомендовать несколько стратегий:\n",
    "\n",
    "В премиальных районах Москвы, особенно в центре, выгодно открывать рестораны с высоким средним чеком, уникальным меню и качественным сервисом.\n",
    "В спальных районах перспективны демократичные форматы кафе, пиццерий и точек быстрого питания, ориентированные на доступные цены и высокий трафик.\n",
    "Открытие сети булочных и кофеен может быть особенно прибыльным, так как эти сегменты имеют высокий процент сетевых точек и продолжают активно развиваться."
   ]
  }
 ],
 "metadata": {
  "kernelspec": {
   "display_name": "Python [conda env:base] *",
   "language": "python",
   "name": "conda-base-py"
  },
  "language_info": {
   "codemirror_mode": {
    "name": "ipython",
    "version": 3
   },
   "file_extension": ".py",
   "mimetype": "text/x-python",
   "name": "python",
   "nbconvert_exporter": "python",
   "pygments_lexer": "ipython3",
   "version": "3.12.7"
  },
  "toc": {
   "base_numbering": 1,
   "nav_menu": {},
   "number_sections": true,
   "sideBar": true,
   "skip_h1_title": true,
   "title_cell": "Table of Contents",
   "title_sidebar": "Contents",
   "toc_cell": false,
   "toc_position": {},
   "toc_section_display": true,
   "toc_window_display": false
  }
 },
 "nbformat": 4,
 "nbformat_minor": 5
}
